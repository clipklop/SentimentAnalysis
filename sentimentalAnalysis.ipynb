{
 "metadata": {
  "language_info": {
   "codemirror_mode": {
    "name": "ipython",
    "version": 3
   },
   "file_extension": ".py",
   "mimetype": "text/x-python",
   "name": "python",
   "nbconvert_exporter": "python",
   "pygments_lexer": "ipython3",
   "version": "3.8.2-final"
  },
  "orig_nbformat": 2,
  "kernelspec": {
   "name": "python3",
   "display_name": "Python 3.8.2 64-bit",
   "metadata": {
    "interpreter": {
     "hash": "aee8b7b246df8f9039afb4144a1f6fd8d2ca17a180786b69acc140d282b71a49"
    }
   }
  }
 },
 "nbformat": 4,
 "nbformat_minor": 2,
 "cells": [
  {
   "source": [
    "### Sentimal Analysis for goodreads quotes\n",
    "\n"
   ],
   "cell_type": "markdown",
   "metadata": {}
  },
  {
   "cell_type": "code",
   "execution_count": 67,
   "metadata": {},
   "outputs": [],
   "source": [
    "from bs4 import BeautifulSoup\n",
    "import pandas as pd\n",
    "import requests"
   ]
  },
  {
   "cell_type": "code",
   "execution_count": 291,
   "metadata": {},
   "outputs": [],
   "source": [
    "url = \"https://www.goodreads.com/quotes/tag/{}?page={}\"\n",
    "emotions = ['inspirational', 'love', 'knowledge']\n",
    "complete_url = url.format(emotions[0], 1)\n"
   ]
  },
  {
   "cell_type": "code",
   "execution_count": 292,
   "metadata": {},
   "outputs": [],
   "source": [
    "def get_quote(complete_url):\n",
    "    data = requests.get(complete_url)\n",
    "    soup = BeautifulSoup(data.text)\n",
    "    divs = soup.find_all('div', attrs={'class': 'quoteText'})\n",
    "    quotes = [d.text.strip().split('\\n')[0][1:-1] for d in divs]\n",
    "    return quotes"
   ]
  },
  {
   "cell_type": "code",
   "execution_count": 247,
   "metadata": {
    "tags": []
   },
   "outputs": [
    {
     "output_type": "stream",
     "name": "stdout",
     "text": [
      "['Be yourself; everyone else is already taken.', \"You've gotta dance like there's nobody watching,Love like you'll never be hurt,Sing like there's nobody listening,And live like it's heaven on earth.\", 'Be the change that you wish to see in the world.', 'Live as if you were to die tomorrow. Learn as if you were to live forever.', 'Darkness cannot drive out darkness: only light can do that. Hate cannot drive out hate: only love can do that.', 'Without music, life would be a mistake.', 'We accept the love we think we deserve.', \"Imperfection is beauty, madness is genius and it's better to be absolutely ridiculous than absolutely boring.\", 'There are only two ways to live your life. One is as though nothing is a miracle. The other is as though everything is a miracle.', 'We are all in the gutter, but some of us are looking at the stars.', 'Fairy tales are more than true: not because they tell us that dragons exist, but because they tell us that dragons can be beaten.', 'Yesterday is history, tomorrow is a mystery, today is a gift of God, which is why we call it the present.', \"I have not failed. I've just found 10,000 ways that won't work.\", \"The opposite of love is not hate, it's indifference. The opposite of art is not ugliness, it's indifference. The opposite of faith is not heresy, it's indifference. And the opposite of life is not death, it's indifference.\", 'I am enough of an artist to draw freely upon my imagination. Imagination is more important than knowledge. Knowledge is limited. Imagination encircles the world.', \"You have brains in your head. You have feet in your shoes. You can steer yourself any direction you choose. You're on your own. And you know what you know. And YOU are the one who'll decide where to go...\", 'It is never too late to be what you might have been.', \"This life is what you make it. No matter what, you're going to mess up sometimes, it's a universal truth. But the good part is you get to decide how you're going to mess it up. Girls will be your friends - they'll act like it anyway. But just remember, some come, some go. The ones that stay with you through everything - they're your true best friends. Don't let go of them. Also remember, sisters make the best friends in the world. As for lovers, well, they'll come and go too. And baby, I hate to say it, most of them - actually pretty much all of them are going to break your heart, but you can't give up because if you give up, you'll never find your soulmate. You'll never find that half who makes you whole and that goes for everything. Just because you fail once, doesn't mean you're gonna fail at everything. Keep trying, hold on, and always, always, always believe in yourself, because if you don't, then who will, sweetie? So keep your head high, keep your chin up, and most importantly, keep smiling, because life's a beautiful thing and there's so much to smile about.\", 'There is no greater agony than bearing an untold story inside you.', 'Everything you can imagine is real.', 'You can never get a cup of tea large enough or a book long enough to suit me.', \"Life isn't about finding yourself. Life is about creating yourself.\", 'To the well-organized mind, death is but the next great adventure.', 'Do what you can, with what you have, where you are.', \"Listen to the mustn'ts, child. Listen to the don'ts. Listen to the shouldn'ts, the impossibles, the won'ts. Listen to the never haves, then listen close to me... Anything can happen, child. Anything can be.\", 'Success is not final, failure is not fatal: it is the courage to continue that counts.', 'When one door of happiness closes, another opens; but often we look so long at the closed door that we do not see the one which has been opened for us.', \"So, this is my life. And I want you to know that I am both happy and sad and I'm still trying to figure out how that could be.\", 'And, when you want something, all the universe conspires in helping you to achieve it.', \"You may say I'm a dreamer, but I'm not the only one. I hope someday you'll join us. And the world will live as one.\"]\n"
     ]
    }
   ],
   "source": [
    "print(get_quote(complete_url))"
   ]
  },
  {
   "source": [
    "#### Get quotes for each emotion"
   ],
   "cell_type": "markdown",
   "metadata": {}
  },
  {
   "cell_type": "code",
   "execution_count": 293,
   "metadata": {},
   "outputs": [
    {
     "output_type": "stream",
     "name": "stdout",
     "text": [
      "Page 1 for inspirational tag processed.\n",
      "Page 2 for inspirational tag processed.\n",
      "Page 3 for inspirational tag processed.\n",
      "Page 4 for inspirational tag processed.\n",
      "Page 5 for inspirational tag processed.\n",
      "Page 6 for inspirational tag processed.\n",
      "Page 7 for inspirational tag processed.\n",
      "Page 8 for inspirational tag processed.\n",
      "Page 9 for inspirational tag processed.\n",
      "Page 1 for love tag processed.\n",
      "Page 2 for love tag processed.\n",
      "Page 3 for love tag processed.\n",
      "Page 4 for love tag processed.\n",
      "Page 5 for love tag processed.\n",
      "Page 6 for love tag processed.\n",
      "Page 7 for love tag processed.\n",
      "Page 8 for love tag processed.\n",
      "Page 9 for love tag processed.\n",
      "Page 1 for knowledge tag processed.\n",
      "Page 2 for knowledge tag processed.\n",
      "Page 3 for knowledge tag processed.\n",
      "Page 4 for knowledge tag processed.\n",
      "Page 5 for knowledge tag processed.\n",
      "Page 6 for knowledge tag processed.\n",
      "Page 7 for knowledge tag processed.\n",
      "Page 8 for knowledge tag processed.\n",
      "Page 9 for knowledge tag processed.\n"
     ]
    }
   ],
   "source": [
    "x, y = [], []\n",
    "\n",
    "for emo in emotions:\n",
    "    for i in range(1, 10):\n",
    "        complete_url = url.format(emo, i)\n",
    "        quotes = get_quote(complete_url)\n",
    "        x.extend(quotes)\n",
    "        y.extend([emo] * len(quotes))\n",
    "        print(f'Page {i} for {emo} tag processed.')"
   ]
  },
  {
   "cell_type": "code",
   "execution_count": 225,
   "metadata": {},
   "outputs": [
    {
     "output_type": "execute_result",
     "data": {
      "text/plain": [
       "('Live as if you were to die tomorrow. Learn as if you were to live forever.',\n",
       " 'inspirational',\n",
       " 'You are, and always have been, my dream.',\n",
       " 'love',\n",
       " 120)"
      ]
     },
     "metadata": {},
     "execution_count": 225
    }
   ],
   "source": [
    "x[3], y[3], x[-2], y[-3], len(x)"
   ]
  },
  {
   "cell_type": "code",
   "execution_count": 294,
   "metadata": {},
   "outputs": [],
   "source": [
    "df = pd.DataFrame(list(zip(y, x)), columns=['emotion', 'quotes'])\n",
    "df.head(-1)\n",
    "df.to_csv('emotion.csv', index=False)"
   ]
  },
  {
   "source": [
    "#### ML part"
   ],
   "cell_type": "markdown",
   "metadata": {}
  },
  {
   "cell_type": "code",
   "execution_count": 176,
   "metadata": {},
   "outputs": [],
   "source": [
    "from sklearn.feature_extraction.text import CountVectorizer\n",
    "from sklearn.model_selection import train_test_split\n",
    "from sklearn.naive_bayes import BernoulliNB\n",
    "from nltk.tokenize import RegexpTokenizer\n",
    "from nltk.stem import PorterStemmer\n",
    "from nltk.corpus import stopwords"
   ]
  },
  {
   "cell_type": "code",
   "execution_count": 296,
   "metadata": {},
   "outputs": [
    {
     "output_type": "execute_result",
     "data": {
      "text/plain": [
       "CountVectorizer(max_features=1000)"
      ]
     },
     "metadata": {},
     "execution_count": 296
    }
   ],
   "source": [
    "vect = CountVectorizer(max_features=1000)\n",
    "vect.fit(x)"
   ]
  },
  {
   "cell_type": "code",
   "execution_count": 218,
   "metadata": {},
   "outputs": [
    {
     "output_type": "execute_result",
     "data": {
      "text/plain": [
       "500"
      ]
     },
     "metadata": {},
     "execution_count": 218
    }
   ],
   "source": [
    "len(vect.vocabulary_)\n",
    "# vect.vocabulary_"
   ]
  },
  {
   "cell_type": "code",
   "execution_count": 297,
   "metadata": {},
   "outputs": [],
   "source": [
    "x_mod = vect.transform(x).todense()\n",
    "# x_mod[-1]"
   ]
  },
  {
   "cell_type": "code",
   "execution_count": 298,
   "metadata": {},
   "outputs": [
    {
     "output_type": "execute_result",
     "data": {
      "text/plain": [
       "'The study of truth requires a considerable effort - which is why few are willing to undertake it out of love of knowledge - despite the fact that God has implanted a natural appetite for such knowledge in the minds of men.'"
      ]
     },
     "metadata": {},
     "execution_count": 298
    }
   ],
   "source": [
    "x[-1]"
   ]
  },
  {
   "source": [
    "#### if want to check how many time some of the word is apearing in quotes, you could check it with `vect.transform(x).todense()`, for example 'as' in quote `x[-1]` is appearing 3 times `x_mod[-1]`"
   ],
   "cell_type": "markdown",
   "metadata": {}
  },
  {
   "source": [
    "#### if you want to replace different meanings of same word, like run, running, ran to just 'run' or love, loving, loved to 'love' you could use `PorterStemmer().stem('loved')` which give you 'love'"
   ],
   "cell_type": "markdown",
   "metadata": {}
  },
  {
   "cell_type": "code",
   "execution_count": 299,
   "metadata": {},
   "outputs": [],
   "source": [
    "tokenizer = RegexpTokenizer('\\w+')\n",
    "sw = set(stopwords.words('english'))\n",
    "ps = PorterStemmer()"
   ]
  },
  {
   "cell_type": "code",
   "execution_count": 300,
   "metadata": {},
   "outputs": [],
   "source": [
    "def getStemmedQuote(quote):\n",
    "    quote = quote.lower()\n",
    "\n",
    "    # tokenize, or just making a list from a quote\n",
    "    tokens = tokenizer.tokenize(quote)\n",
    "\n",
    "    # removed stopwords\n",
    "    new_tokens = [token for token in tokens if token not in sw]\n",
    "\n",
    "    # stemming words, bad thing - this internal stemmer is sometines removing or chaning words endings\n",
    "    stemmed_tokens = [ps.stem(token) for token in new_tokens]\n",
    "\n",
    "    clean_quote = ' '.join(stemmed_tokens)\n",
    "\n",
    "    return clean_quote"
   ]
  },
  {
   "cell_type": "code",
   "execution_count": 301,
   "metadata": {},
   "outputs": [],
   "source": [
    "def getStemmedQuotes(quotes):\n",
    "    return [getStemmedQuote(q) for q in quotes]\n"
   ]
  },
  {
   "cell_type": "code",
   "execution_count": 302,
   "metadata": {},
   "outputs": [
    {
     "output_type": "execute_result",
     "data": {
      "text/plain": [
       "CountVectorizer(max_features=1000)"
      ]
     },
     "metadata": {},
     "execution_count": 302
    }
   ],
   "source": [
    "X = getStemmedQuotes(x)\n",
    "vect.fit(X)"
   ]
  },
  {
   "cell_type": "code",
   "execution_count": 303,
   "metadata": {},
   "outputs": [
    {
     "output_type": "execute_result",
     "data": {
      "text/plain": [
       "(810, 1000)"
      ]
     },
     "metadata": {},
     "execution_count": 303
    }
   ],
   "source": [
    "X_mod = vect.transform(X).todense()\n",
    "X_mod.shape"
   ]
  },
  {
   "cell_type": "code",
   "execution_count": 304,
   "metadata": {},
   "outputs": [],
   "source": [
    "X_train, X_test, y_train, y_test = train_test_split(X_mod, y, test_size=0.33, random_state=42)"
   ]
  },
  {
   "cell_type": "code",
   "execution_count": 305,
   "metadata": {},
   "outputs": [],
   "source": [
    "model = BernoulliNB()"
   ]
  },
  {
   "cell_type": "code",
   "execution_count": 306,
   "metadata": {},
   "outputs": [
    {
     "output_type": "execute_result",
     "data": {
      "text/plain": [
       "BernoulliNB()"
      ]
     },
     "metadata": {},
     "execution_count": 306
    }
   ],
   "source": [
    "model.fit(X_train, y_train)"
   ]
  },
  {
   "cell_type": "code",
   "execution_count": 307,
   "metadata": {},
   "outputs": [
    {
     "output_type": "execute_result",
     "data": {
      "text/plain": [
       "0.6343283582089553"
      ]
     },
     "metadata": {},
     "execution_count": 307
    }
   ],
   "source": [
    "model.score(X_test, y_test)"
   ]
  },
  {
   "cell_type": "code",
   "execution_count": 308,
   "metadata": {},
   "outputs": [],
   "source": [
    "# lets test our model with random quote\n",
    "line_inspirational = \"The pessimist sees difficulty in every opportunity.\"\n",
    "line_love = \"You call it madness, but I call it love.\"\n",
    "line_love2 = \"We can only learn to love by loving.\"\n",
    "X_vec = vect.transform([line_inspirational, line_love, line_love2]).todense()\n",
    "X_vec2 = vect.transform([line_love]).todense()"
   ]
  },
  {
   "cell_type": "code",
   "execution_count": 309,
   "metadata": {},
   "outputs": [
    {
     "output_type": "execute_result",
     "data": {
      "text/plain": [
       "array(['inspirational', 'inspirational', 'inspirational'], dtype='<U13')"
      ]
     },
     "metadata": {},
     "execution_count": 309
    }
   ],
   "source": [
    "model.predict(X_vec)"
   ]
  },
  {
   "cell_type": "code",
   "execution_count": 217,
   "metadata": {},
   "outputs": [
    {
     "output_type": "execute_result",
     "data": {
      "text/plain": [
       "2"
      ]
     },
     "metadata": {},
     "execution_count": 217
    }
   ],
   "source": [
    "[0, 0, 0, 0, 0, 0, 0, 0, 0, 0, 0, 0, 0, 0, 0, 0, 0, 0, 0, 0, 0, 0, 0, 0, 0, 0, 0, 0, 0, 0, 0, 0, 0, 0, 0, 0, 0, 0, 0, 0, 0, 0, 2]"
   ]
  },
  {
   "source": [],
   "cell_type": "markdown",
   "metadata": {}
  }
 ]
}